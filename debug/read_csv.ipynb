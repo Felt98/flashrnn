{
 "cells": [
  {
   "cell_type": "code",
   "execution_count": 40,
   "metadata": {
    "vscode": {
     "languageId": "plaintext"
    }
   },
   "outputs": [
    {
     "name": "stderr",
     "output_type": "stream",
     "text": [
      "/tmp/ipykernel_582431/1655233429.py:9: FutureWarning: DataFrame.applymap has been deprecated. Use DataFrame.map instead.\n",
      "  df_pct = df.applymap(lambda x: f\"{x:.2e}\" if isinstance(x, float) else x)\n"
     ]
    },
    {
     "data": {
      "text/html": [
       "<div>\n",
       "<style scoped>\n",
       "    .dataframe tbody tr th:only-of-type {\n",
       "        vertical-align: middle;\n",
       "    }\n",
       "\n",
       "    .dataframe tbody tr th {\n",
       "        vertical-align: top;\n",
       "    }\n",
       "\n",
       "    .dataframe thead th {\n",
       "        text-align: right;\n",
       "    }\n",
       "</style>\n",
       "<table border=\"1\" class=\"dataframe\">\n",
       "  <thead>\n",
       "    <tr style=\"text-align: right;\">\n",
       "      <th></th>\n",
       "      <th>metric</th>\n",
       "      <th>hn</th>\n",
       "      <th>x grad</th>\n",
       "      <th>h0 grad</th>\n",
       "      <th>R grad</th>\n",
       "      <th>b grad</th>\n",
       "    </tr>\n",
       "  </thead>\n",
       "  <tbody>\n",
       "    <tr>\n",
       "      <th>0</th>\n",
       "      <td>max abs</td>\n",
       "      <td>8.48e-01</td>\n",
       "      <td>4.66e+00</td>\n",
       "      <td>5.69e+00</td>\n",
       "      <td>2.80e+03</td>\n",
       "      <td>5.66e+04</td>\n",
       "    </tr>\n",
       "    <tr>\n",
       "      <th>1</th>\n",
       "      <td>max rel</td>\n",
       "      <td>8.44e+07</td>\n",
       "      <td>1.89e+07</td>\n",
       "      <td>1.37e+04</td>\n",
       "      <td>1.31e+09</td>\n",
       "      <td>2.28e+12</td>\n",
       "    </tr>\n",
       "    <tr>\n",
       "      <th>2</th>\n",
       "      <td>mean abs</td>\n",
       "      <td>1.18e-01</td>\n",
       "      <td>6.80e-01</td>\n",
       "      <td>1.02e+00</td>\n",
       "      <td>4.62e+01</td>\n",
       "      <td>1.00e+04</td>\n",
       "    </tr>\n",
       "    <tr>\n",
       "      <th>3</th>\n",
       "      <td>mean rel</td>\n",
       "      <td>1.56e+06</td>\n",
       "      <td>1.19e+01</td>\n",
       "      <td>7.06e+00</td>\n",
       "      <td>1.25e+04</td>\n",
       "      <td>1.84e+10</td>\n",
       "    </tr>\n",
       "  </tbody>\n",
       "</table>\n",
       "</div>"
      ],
      "text/plain": [
       "     metric        hn    x grad   h0 grad    R grad    b grad\n",
       "0   max abs  8.48e-01  4.66e+00  5.69e+00  2.80e+03  5.66e+04\n",
       "1   max rel  8.44e+07  1.89e+07  1.37e+04  1.31e+09  2.28e+12\n",
       "2  mean abs  1.18e-01  6.80e-01  1.02e+00  4.62e+01  1.00e+04\n",
       "3  mean rel  1.56e+06  1.19e+01  7.06e+00  1.25e+04  1.84e+10"
      ]
     },
     "execution_count": 40,
     "metadata": {},
     "output_type": "execute_result"
    }
   ],
   "source": [
    "import pandas as pd\n",
    "# 模拟 CSV 文件内容\n",
    "\n",
    "\n",
    "# 使用 pandas 读取 CSV 内容\n",
    "from io import StringIO\n",
    "file=\"diff_gru_cuda&fused_bfloat16_T512_H512_B64.csv\"\n",
    "df = pd.read_csv(file)\n",
    "df_pct = df.applymap(lambda x: f\"{x:.2e}\" if isinstance(x, float) else x)\n",
    "df_pct['metric'] = df_pct['metric'].str.replace('ref', 'rel', regex=False)\n",
    "\n",
    "df_pct"
   ]
  },
  {
   "cell_type": "code",
   "execution_count": 20,
   "metadata": {},
   "outputs": [
    {
     "data": {
      "text/html": [
       "<div>\n",
       "<style scoped>\n",
       "    .dataframe tbody tr th:only-of-type {\n",
       "        vertical-align: middle;\n",
       "    }\n",
       "\n",
       "    .dataframe tbody tr th {\n",
       "        vertical-align: top;\n",
       "    }\n",
       "\n",
       "    .dataframe thead th {\n",
       "        text-align: right;\n",
       "    }\n",
       "</style>\n",
       "<table border=\"1\" class=\"dataframe\">\n",
       "  <thead>\n",
       "    <tr style=\"text-align: right;\">\n",
       "      <th></th>\n",
       "      <th>metric</th>\n",
       "      <th>hn</th>\n",
       "      <th>cn</th>\n",
       "      <th>x grad</th>\n",
       "      <th>h0 grad</th>\n",
       "      <th>c0 grad</th>\n",
       "      <th>R grad</th>\n",
       "      <th>b grad</th>\n",
       "    </tr>\n",
       "  </thead>\n",
       "  <tbody>\n",
       "    <tr>\n",
       "      <th>0</th>\n",
       "      <td>max abs</td>\n",
       "      <td>5.86e-03</td>\n",
       "      <td>7.81e-03</td>\n",
       "      <td>3.91e-03</td>\n",
       "      <td>1.20e+00</td>\n",
       "      <td>7.81e-03</td>\n",
       "      <td>2.12e-01</td>\n",
       "      <td>6.25e-02</td>\n",
       "    </tr>\n",
       "    <tr>\n",
       "      <th>1</th>\n",
       "      <td>max rel</td>\n",
       "      <td>9.98e+04</td>\n",
       "      <td>6.37e+04</td>\n",
       "      <td>1.78e+02</td>\n",
       "      <td>1.32e+05</td>\n",
       "      <td>4.57e-02</td>\n",
       "      <td>1.00e+00</td>\n",
       "      <td>1.51e+01</td>\n",
       "    </tr>\n",
       "    <tr>\n",
       "      <th>2</th>\n",
       "      <td>mean abs</td>\n",
       "      <td>6.10e-04</td>\n",
       "      <td>7.93e-04</td>\n",
       "      <td>6.87e-04</td>\n",
       "      <td>2.49e-01</td>\n",
       "      <td>1.01e-03</td>\n",
       "      <td>3.52e-02</td>\n",
       "      <td>3.91e-03</td>\n",
       "    </tr>\n",
       "    <tr>\n",
       "      <th>3</th>\n",
       "      <td>mean rel</td>\n",
       "      <td>7.20e+01</td>\n",
       "      <td>2.01e+01</td>\n",
       "      <td>4.81e-02</td>\n",
       "      <td>1.29e+01</td>\n",
       "      <td>4.64e-03</td>\n",
       "      <td>1.00e+00</td>\n",
       "      <td>2.58e-02</td>\n",
       "    </tr>\n",
       "  </tbody>\n",
       "</table>\n",
       "</div>"
      ],
      "text/plain": [
       "     metric        hn        cn    x grad   h0 grad   c0 grad    R grad  \\\n",
       "0   max abs  5.86e-03  7.81e-03  3.91e-03  1.20e+00  7.81e-03  2.12e-01   \n",
       "1   max rel  9.98e+04  6.37e+04  1.78e+02  1.32e+05  4.57e-02  1.00e+00   \n",
       "2  mean abs  6.10e-04  7.93e-04  6.87e-04  2.49e-01  1.01e-03  3.52e-02   \n",
       "3  mean rel  7.20e+01  2.01e+01  4.81e-02  1.29e+01  4.64e-03  1.00e+00   \n",
       "\n",
       "     b grad  \n",
       "0  6.25e-02  \n",
       "1  1.51e+01  \n",
       "2  3.91e-03  \n",
       "3  2.58e-02  "
      ]
     },
     "execution_count": 20,
     "metadata": {},
     "output_type": "execute_result"
    }
   ],
   "source": [
    "df_pct"
   ]
  },
  {
   "cell_type": "code",
   "execution_count": null,
   "metadata": {},
   "outputs": [],
   "source": []
  }
 ],
 "metadata": {
  "kernelspec": {
   "display_name": "Python 3 (ipykernel)",
   "language": "python",
   "name": "python3"
  },
  "language_info": {
   "codemirror_mode": {
    "name": "ipython",
    "version": 3
   },
   "file_extension": ".py",
   "mimetype": "text/x-python",
   "name": "python",
   "nbconvert_exporter": "python",
   "pygments_lexer": "ipython3",
   "version": "3.11.11"
  }
 },
 "nbformat": 4,
 "nbformat_minor": 4
}
