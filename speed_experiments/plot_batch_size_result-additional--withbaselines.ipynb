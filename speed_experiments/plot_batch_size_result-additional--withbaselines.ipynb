{
 "cells": [
  {
   "cell_type": "code",
   "execution_count": null,
   "metadata": {},
   "outputs": [],
   "source": [
    "import torch\n",
    "import pandas as pd\n",
    "import matplotlib as mpl\n",
    "import matplotlib.pyplot as plt\n",
    "import numpy as np"
   ]
  },
  {
   "cell_type": "code",
   "execution_count": null,
   "metadata": {},
   "outputs": [],
   "source": [
    "%load_ext autoreload\n",
    "%autoreload 2\n",
    "from plot_results import plot_runtime_results, plot_runtime_results_fwbw, savefig\n",
    "from plot_config import (\n",
    "    col_order_lstm_fw,\n",
    "    col_order_lstm_fwbw,\n",
    "    col_order_slstm_fw,\n",
    "    col_order_slstm_fwbw,\n",
    "    FIGSIZE_2COL,\n",
    "    GRIDSPEC_KWARGS,\n",
    "    save_path\n",
    ")\n"
   ]
  },
  {
   "cell_type": "code",
   "execution_count": null,
   "metadata": {},
   "outputs": [],
   "source": [
    "DATA_FILE_DH768_NH1 = \"../outputs_speed_exps_h100_add_v2/batch_size_exp_additional/batch_size_exp_additional--dh-768--nh-1--T-1024--dtype-bfloat16.csv\""
   ]
  },
  {
   "cell_type": "markdown",
   "metadata": {},
   "source": [
    "# Plot batch size experiments DH=768, NH=1"
   ]
  },
  {
   "cell_type": "code",
   "execution_count": null,
   "metadata": {},
   "outputs": [],
   "source": [
    "batch_size_dh768_nh1_df = pd.read_csv(DATA_FILE_DH768_NH1)\n",
    "batch_size_dh768_nh1_df.style"
   ]
  },
  {
   "cell_type": "markdown",
   "metadata": {},
   "source": [
    "## LSTM"
   ]
  },
  {
   "cell_type": "code",
   "execution_count": null,
   "metadata": {},
   "outputs": [],
   "source": [
    "batch_size_dh768_nh1_lstm_fw_df = batch_size_dh768_nh1_df.filter(regex=\"B|(^lstm.*(cuda_fused.*|cuda.*)|^nn.LSTM--pytorch-float16.*|^haste.*)\\+\\+fw$\")\n",
    "batch_size_dh768_nh1_lstm_fw_df = batch_size_dh768_nh1_lstm_fw_df[batch_size_dh768_nh1_lstm_fw_df[\"B\"].isin([8, 32, 128])]\n",
    "batch_size_dh768_nh1_lstm_fw_df"
   ]
  },
  {
   "cell_type": "code",
   "execution_count": null,
   "metadata": {},
   "outputs": [],
   "source": [
    "batch_size_dh768_nh1_lstm_fwbw_df = batch_size_dh768_nh1_df.filter(regex=\"B|(^lstm.*(cuda_fused.*|cuda.*)|^nn.LSTM--pytorch-float16.*|^haste.*)\\+\\+fwbw$\")\n",
    "batch_size_dh768_nh1_lstm_fwbw_df = batch_size_dh768_nh1_lstm_fwbw_df[batch_size_dh768_nh1_lstm_fwbw_df[\"B\"].isin([8, 32, 128])]"
   ]
  },
  {
   "cell_type": "code",
   "execution_count": null,
   "metadata": {},
   "outputs": [],
   "source": [
    "f = plot_runtime_results_fwbw(\n",
    "    # left\n",
    "    df_left=batch_size_dh768_nh1_lstm_fw_df,\n",
    "    yticks_left=[0, 5, 10, 15, 20, 30],\n",
    "    col_order_left=[\n",
    "        \"lstm--cuda_fused++fw\",\n",
    "        \"lstm--cuda_fused-withlinear++fw\",\n",
    "        \"lstm--cuda++fw\",\n",
    "        \"lstm--cuda-withlinear++fw\",\n",
    "        \"nn.LSTM--pytorch-float16++fw\",\n",
    "    ],\n",
    "    # right\n",
    "    df_right=batch_size_dh768_nh1_lstm_fwbw_df,\n",
    "    yticks_right=[0, 20, 40, 60, 80, 100],\n",
    "    col_order_right=[\n",
    "        \"lstm--cuda_fused++fwbw\",\n",
    "        \"lstm--cuda_fused-withlinear++fwbw\",\n",
    "        \"lstm--cuda++fwbw\",\n",
    "        \"lstm--cuda-withlinear++fwbw\",\n",
    "        \"nn.LSTM--pytorch-float16++fwbw\",\n",
    "    ],\n",
    "    filename_wo_ending=\"batch_size_add_withlinear_dh768_nh1--lstm\",\n",
    "    group_cols=[\"B\"],\n",
    "    # modify_df_func=modify_df,\n",
    "    legend_args={\n",
    "        \"loc\": \"lower center\",\n",
    "        \"ncol\": 2,\n",
    "        \"bbox_to_anchor\": (0.0, 0.97, 1.0, 0.102),\n",
    "        \"frameon\": False,\n",
    "        \"facecolor\": \"white\",\n",
    "    },\n",
    ")\n",
    "f"
   ]
  },
  {
   "cell_type": "code",
   "execution_count": null,
   "metadata": {},
   "outputs": [],
   "source": []
  }
 ],
 "metadata": {
  "kernelspec": {
   "display_name": "xlstmpt240cu124",
   "language": "python",
   "name": "python3"
  },
  "language_info": {
   "codemirror_mode": {
    "name": "ipython",
    "version": 3
   },
   "file_extension": ".py",
   "mimetype": "text/x-python",
   "name": "python",
   "nbconvert_exporter": "python",
   "pygments_lexer": "ipython3",
   "version": "3.11.9"
  }
 },
 "nbformat": 4,
 "nbformat_minor": 2
}
