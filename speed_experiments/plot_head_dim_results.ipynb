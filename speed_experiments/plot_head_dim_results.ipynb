{
 "cells": [
  {
   "cell_type": "code",
   "execution_count": null,
   "metadata": {},
   "outputs": [],
   "source": [
    "import torch\n",
    "import pandas as pd\n",
    "import matplotlib as mpl\n",
    "import matplotlib.pyplot as plt\n",
    "import numpy as np"
   ]
  },
  {
   "cell_type": "code",
   "execution_count": null,
   "metadata": {},
   "outputs": [],
   "source": [
    "%load_ext autoreload\n",
    "%autoreload 2\n",
    "from plot_results import plot_runtime_results, savefig\n",
    "from plot_config import (\n",
    "    col_order_lstm_fw,\n",
    "    col_order_lstm_fwbw,\n",
    "    col_order_slstm_fw,\n",
    "    col_order_slstm_fwbw,\n",
    "    FIGSIZE_2COL,\n",
    "    GRIDSPEC_KWARGS,\n",
    "    save_path\n",
    ")\n"
   ]
  },
  {
   "cell_type": "markdown",
   "metadata": {},
   "source": [
    "# Plot head dimension experiments"
   ]
  },
  {
   "cell_type": "code",
   "execution_count": null,
   "metadata": {},
   "outputs": [],
   "source": [
    "# DATA_FILE = \"../../outputs_speed_exps_h100_v1/head_dimension_exp/head_dimension_exp--batch-16--T-1024--dtype-bfloat16.csv\"\n",
    "# DATA_FILE = \"../../flashrnn/outputs_speed_exps_h100_v2/head_dimension_exp/head_dimension_exp--batch-16--T-1024--dtype-bfloat16.csv\"\n",
    "DATA_FILE = \"../../flashrnn/outputs_speed_exps_h100_v3/head_dimension_exp/head_dimension_exp--batch-16--T-1024--dtype-bfloat16.csv\"\n"
   ]
  },
  {
   "cell_type": "code",
   "execution_count": null,
   "metadata": {},
   "outputs": [],
   "source": [
    "head_dim_df = pd.read_csv(DATA_FILE)\n",
    "head_dim_df.style"
   ]
  },
  {
   "cell_type": "markdown",
   "metadata": {},
   "source": [
    "## LSTM"
   ]
  },
  {
   "cell_type": "code",
   "execution_count": null,
   "metadata": {},
   "outputs": [],
   "source": [
    "head_dim_lstm_fw_df = head_dim_df.filter(regex=\"DH|NH|(^lstm.*(vanilla_fwbw|triton_fused|cuda_fused|cuda)|^attention_causal--fa2.*|^nn.LSTM.*)\\+\\+fw$\") #.filter(regex=\"DH|NH|^lstm.*(vanilla_fwbw|triton_fused|cuda_fused|cuda)\\+\\+fw$\")\n",
    "head_dim_lstm_fw_df"
   ]
  },
  {
   "cell_type": "code",
   "execution_count": null,
   "metadata": {},
   "outputs": [],
   "source": [
    "col_order_lstm_fw+[\"attention_causal--fa2++fw\", \"nn.LSTM--pytorch++fw\"]"
   ]
  },
  {
   "cell_type": "code",
   "execution_count": null,
   "metadata": {},
   "outputs": [],
   "source": [
    "f = plot_runtime_results(\n",
    "    data_df=head_dim_lstm_fw_df,\n",
    "    slow_cols=[\"lstm--vanilla_fwbw++fw\"],\n",
    "    slow_cols_offset=16.0,\n",
    "    group_cols=[\"NH\", \"DH\"],\n",
    "    yticks=[0, 5, 10],\n",
    "    plot_column_order=col_order_lstm_fw,#+[\"attention_causal--fa2++fw\", \"nn.LSTM--pytorch++fw\"],\n",
    "    filename=\"head_dim--lstm--fw\"\n",
    ")\n",
    "f"
   ]
  },
  {
   "cell_type": "code",
   "execution_count": null,
   "metadata": {},
   "outputs": [],
   "source": [
    "head_dim_lstm_fwbw_df = head_dim_df.filter(regex=\"DH|NH|^lstm.*(vanilla_fwbw|triton_fused|cuda_fused|cuda)\\+\\+fwbw$\")\n",
    "head_dim_lstm_fwbw_df"
   ]
  },
  {
   "cell_type": "code",
   "execution_count": null,
   "metadata": {},
   "outputs": [],
   "source": [
    "f = plot_runtime_results(\n",
    "    data_df=head_dim_lstm_fwbw_df,\n",
    "    slow_cols=[\"lstm--vanilla_fwbw++fwbw\"],\n",
    "    slow_cols_offset=30.0,\n",
    "    group_cols=[\"NH\", \"DH\"],\n",
    "    yticks=[0, 5, 10, 15, 20, 25],\n",
    "    plot_column_order=col_order_lstm_fwbw,\n",
    "    filename=\"head_dim--lstm--fwbw\"\n",
    ")\n",
    "f"
   ]
  },
  {
   "cell_type": "code",
   "execution_count": null,
   "metadata": {},
   "outputs": [],
   "source": [
    "f, (ax_left, ax_right) = plt.subplots(\n",
    "    1, 2, figsize=FIGSIZE_2COL, gridspec_kw=GRIDSPEC_KWARGS\n",
    ")\n",
    "\n",
    "f = plot_runtime_results(\n",
    "    data_df=head_dim_lstm_fw_df,\n",
    "    slow_cols=[\"lstm--vanilla_fwbw++fw\"],\n",
    "    slow_cols_offset=16.0,\n",
    "    group_cols=[\"NH\", \"DH\"],\n",
    "    yticks=[0, 5, 10],\n",
    "    plot_column_order=col_order_lstm_fw,\n",
    "    legend_args={\n",
    "        \"loc\": \"lower center\",\n",
    "        \"ncol\": 2,\n",
    "        \"bbox_to_anchor\": (0.0, 0.97, 1.0, 0.102),\n",
    "        \"frameon\": False,\n",
    "        \"facecolor\": \"white\",\n",
    "    },\n",
    "    ax=ax_left,\n",
    ")\n",
    "f = plot_runtime_results(\n",
    "    data_df=head_dim_lstm_fwbw_df,\n",
    "    slow_cols=[\"lstm--vanilla_fwbw++fwbw\"],\n",
    "    slow_cols_offset=30.0,\n",
    "    group_cols=[\"NH\", \"DH\"],\n",
    "    yticks=[0, 5, 10, 15, 20, 25],\n",
    "    plot_column_order=col_order_lstm_fwbw,\n",
    "    legend_args={\n",
    "        \"loc\": \"lower center\",\n",
    "        \"ncol\": 2,\n",
    "        \"bbox_to_anchor\": (0.0, 0.97, 1.0, 0.102),\n",
    "        \"frameon\": False,\n",
    "        \"facecolor\": \"white\",\n",
    "    },\n",
    "    ax=ax_right,\n",
    ")\n",
    "savefig(f, savedir=save_path, name=\"head_dim--lstm\")\n",
    "f"
   ]
  },
  {
   "cell_type": "markdown",
   "metadata": {},
   "source": [
    "## sLSTM"
   ]
  },
  {
   "cell_type": "code",
   "execution_count": null,
   "metadata": {},
   "outputs": [],
   "source": [
    "head_dim_slstm_fw_df = head_dim_df.filter(regex=\"DH|NH|^slstm.*(vanilla_fwbw|van|triton_fused|cuda_fused|cuda)\\+\\+fw$\")\n",
    "head_dim_slstm_fw_df"
   ]
  },
  {
   "cell_type": "code",
   "execution_count": null,
   "metadata": {},
   "outputs": [],
   "source": [
    "f = plot_runtime_results(\n",
    "    data_df=head_dim_slstm_fw_df,\n",
    "    slow_cols=[\"slstm--vanilla_fwbw++fw\"],\n",
    "    slow_cols_offset=17.0,\n",
    "    group_cols=[\"NH\", \"DH\"],\n",
    "    yticks=[0, 5, 10],\n",
    "    plot_column_order=col_order_slstm_fw,\n",
    "    filename=\"head_dim--slstm--fw\"\n",
    ")\n",
    "f"
   ]
  },
  {
   "cell_type": "code",
   "execution_count": null,
   "metadata": {},
   "outputs": [],
   "source": [
    "head_dim_slstm_fwbw_df = head_dim_df.filter(regex=\"DH|NH|^slstm.*(vanilla_fwbw|triton_fused|cuda_fused|cuda)\\+\\+fwbw$\")\n",
    "head_dim_slstm_fwbw_df"
   ]
  },
  {
   "cell_type": "code",
   "execution_count": null,
   "metadata": {},
   "outputs": [],
   "source": [
    "f = plot_runtime_results(\n",
    "    data_df=head_dim_slstm_fwbw_df,\n",
    "    slow_cols=[\"slstm--vanilla_fwbw++fwbw\"],\n",
    "    slow_cols_offset=40.0,\n",
    "    group_cols=[\"NH\", \"DH\"],\n",
    "    yticks=[0, 5, 10, 15, 20, 25],\n",
    "    plot_column_order=col_order_slstm_fwbw,\n",
    "    filename=\"head_dim--slstm--fwbw\"\n",
    ")\n",
    "f"
   ]
  },
  {
   "cell_type": "code",
   "execution_count": null,
   "metadata": {},
   "outputs": [],
   "source": [
    "f, (ax_left, ax_right) = plt.subplots(\n",
    "    1, 2, figsize=FIGSIZE_2COL, gridspec_kw=GRIDSPEC_KWARGS\n",
    ")\n",
    "\n",
    "f = plot_runtime_results(\n",
    "    data_df=head_dim_slstm_fw_df,\n",
    "    slow_cols=[\"slstm--vanilla_fwbw++fw\"],\n",
    "    slow_cols_offset=17.0,\n",
    "    group_cols=[\"NH\", \"DH\"],\n",
    "    yticks=[0, 5, 10, 15],\n",
    "    plot_column_order=col_order_slstm_fw,\n",
    "    filename=\"head_dim--slstm--fw\",\n",
    "    legend_args={\n",
    "        \"loc\": \"lower center\",\n",
    "        \"ncol\": 2,\n",
    "        \"bbox_to_anchor\": (0.0, 0.97, 1.0, 0.102),\n",
    "        \"frameon\": False,\n",
    "        \"facecolor\": \"white\",\n",
    "    },\n",
    "    \n",
    "    ax=ax_left,\n",
    ")\n",
    "f = plot_runtime_results(\n",
    "    data_df=head_dim_slstm_fwbw_df,\n",
    "    slow_cols=[\"slstm--vanilla_fwbw++fwbw\"],\n",
    "    slow_cols_offset=40.0,\n",
    "    group_cols=[\"NH\", \"DH\"],\n",
    "    yticks=[0, 5, 10, 15, 20, 25],\n",
    "    plot_column_order=col_order_slstm_fwbw,\n",
    "    legend_args={\n",
    "        \"loc\": \"lower center\",\n",
    "        \"ncol\": 2,\n",
    "        \"bbox_to_anchor\": (0.0, 0.97, 1.0, 0.102),\n",
    "        \"frameon\": False,\n",
    "        \"facecolor\": \"white\",\n",
    "    },\n",
    "    ax=ax_right,\n",
    ")\n",
    "savefig(f, savedir=save_path, name=\"head_dim--slstm\")\n",
    "f"
   ]
  },
  {
   "cell_type": "code",
   "execution_count": null,
   "metadata": {},
   "outputs": [],
   "source": []
  }
 ],
 "metadata": {
  "kernelspec": {
   "display_name": "xlstmpt240cu124",
   "language": "python",
   "name": "python3"
  },
  "language_info": {
   "codemirror_mode": {
    "name": "ipython",
    "version": 3
   },
   "file_extension": ".py",
   "mimetype": "text/x-python",
   "name": "python",
   "nbconvert_exporter": "python",
   "pygments_lexer": "ipython3",
   "version": "3.11.9"
  }
 },
 "nbformat": 4,
 "nbformat_minor": 2
}
