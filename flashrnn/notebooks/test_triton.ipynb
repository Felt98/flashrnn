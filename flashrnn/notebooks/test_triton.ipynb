{
 "cells": [
  {
   "cell_type": "code",
   "execution_count": null,
   "metadata": {},
   "outputs": [],
   "source": [
    "%load_ext autoreload\n",
    "%autoreload 2\n",
    "import sys\n",
    "sys.path.append('../..')\n",
    "import torch\n",
    "from flashrnn.tests.utils import model_test"
   ]
  },
  {
   "cell_type": "markdown",
   "metadata": {},
   "source": [
    "## Run single test case for triton kernels"
   ]
  },
  {
   "cell_type": "code",
   "execution_count": null,
   "metadata": {},
   "outputs": [],
   "source": [
    "device = \"cuda\"\n",
    "dtype = torch.float32\n",
    "TGT_DTYPE = torch.float32\n",
    "B = 16     # batch size\n",
    "T = 23      # sequence length\n",
    "NG = 4      # number of gates (NGI == NGR)\n",
    "NH = 5      # number of heads\n",
    "D = 32    # input/hidden (embedding) dimension\n",
    "NS = 2      # number of states (c, h)"
   ]
  },
  {
   "cell_type": "code",
   "execution_count": null,
   "metadata": {},
   "outputs": [],
   "source": [
    "model_test(\n",
    "    batch_size=B,\n",
    "    sequence_size=T,\n",
    "    num_heads=NH,\n",
    "    head_dim=D,\n",
    "    backend=\"triton_fused\",\n",
    "    backend_cmp=\"vanilla_fwbw\",\n",
    "    function=\"lstm\",\n",
    "    dtype=dtype,\n",
    "    include_backward=True,\n",
    "    tensor_compare_kwargs={\"atol\": 0.1, \"rtol\": 0.2},\n",
    ")"
   ]
  },
  {
   "cell_type": "code",
   "execution_count": null,
   "metadata": {},
   "outputs": [],
   "source": [
    "model_test(\n",
    "    batch_size=B,\n",
    "    sequence_size=T,\n",
    "    num_heads=NH,\n",
    "    head_dim=D,\n",
    "    backend=\"triton_fused\",\n",
    "    backend_cmp=\"vanilla_fwbw\",\n",
    "    function=\"slstm\",\n",
    "    dtype=dtype,\n",
    "    include_backward=True,\n",
    "    tensor_compare_kwargs={\"atol\": 0.5, \"rtol\": 1.},\n",
    "    show_plot_diff=True,\n",
    ")"
   ]
  },
  {
   "cell_type": "code",
   "execution_count": null,
   "metadata": {},
   "outputs": [],
   "source": []
  }
 ],
 "metadata": {
  "kernelspec": {
   "display_name": "xlstmpt240cu124",
   "language": "python",
   "name": "python3"
  },
  "language_info": {
   "codemirror_mode": {
    "name": "ipython",
    "version": 3
   },
   "file_extension": ".py",
   "mimetype": "text/x-python",
   "name": "python",
   "nbconvert_exporter": "python",
   "pygments_lexer": "ipython3",
   "version": "3.11.9"
  }
 },
 "nbformat": 4,
 "nbformat_minor": 2
}
