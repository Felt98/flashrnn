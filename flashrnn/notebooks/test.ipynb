{
 "cells": [
  {
   "cell_type": "code",
   "execution_count": null,
   "metadata": {
    "notebookRunGroups": {
     "groupValue": "1"
    }
   },
   "outputs": [],
   "source": [
    "import sys\n",
    "\n",
    "sys.path.append(\"../..\")\n",
    "import torch\n",
    "from flashrnn.flashrnn import flashrnn\n",
    "import logging\n",
    "\n",
    "logging.basicConfig(level=\"INFO\")"
   ]
  },
  {
   "cell_type": "code",
   "execution_count": null,
   "metadata": {
    "notebookRunGroups": {
     "groupValue": "1"
    }
   },
   "outputs": [],
   "source": [
    "device = \"cuda\"\n",
    "dtype = torch.float32\n",
    "B, T, G, H, D = 8, 2, 4, 1, 32\n",
    "Wx = 1.0 + 0.0 * torch.randn([B, T, G, H, D], device=device, dtype=dtype)\n",
    "R = 1 + 0.0 * torch.randn([G, H, D, D], device=device, dtype=dtype)\n",
    "b = 1 + 0.0 * torch.randn([G, H, D], device=device, dtype=dtype)\n",
    "\n",
    "\n",
    "Wx0 = Wx.detach().clone()\n",
    "Wx0.requires_grad_(True)\n",
    "R0 = R.detach().clone()\n",
    "R0.requires_grad_(True)\n",
    "b0 = b.detach().clone()\n",
    "b0.requires_grad_(True)\n",
    "\n",
    "h = flashrnn(Wx0, R0, b0, backend=\"cuda_fused\", dtype=\"float32\", function=\"slstm\")\n",
    "print(h[0].shape, h[1].shape)\n",
    "\n",
    "h[0][0].sum().backward()"
   ]
  },
  {
   "cell_type": "code",
   "execution_count": null,
   "metadata": {},
   "outputs": [],
   "source": [
    "Wx1 = Wx.detach().clone()\n",
    "Wx1.requires_grad_(True)\n",
    "R1 = R.detach().clone()\n",
    "R1.requires_grad_(True)\n",
    "b1 = b.detach().clone()\n",
    "b1.requires_grad_(True)\n",
    "\n",
    "h2 = flashrnn(Wx1, R1, b1, backend=\"vanilla\", dtype=\"float32\", function=\"slstm\")\n",
    "h2[0][0].sum().backward()"
   ]
  },
  {
   "cell_type": "code",
   "execution_count": null,
   "metadata": {},
   "outputs": [],
   "source": [
    "import matplotlib.pyplot as plt\n",
    "\n",
    "plt.imshow((h[0] - h2[0]).reshape(64, 32).detach().cpu().abs(), vmin=0.0, vmax=0.0001)\n",
    "plt.colorbar()"
   ]
  },
  {
   "cell_type": "code",
   "execution_count": null,
   "metadata": {},
   "outputs": [],
   "source": [
    "import matplotlib.pyplot as plt\n",
    "\n",
    "plt.imshow((Wx0.grad - Wx1.grad).reshape(64, 32).detach().cpu().abs(), vmax=0.1)\n",
    "plt.colorbar()"
   ]
  },
  {
   "cell_type": "code",
   "execution_count": null,
   "metadata": {},
   "outputs": [],
   "source": [
    "Wx, R, b"
   ]
  },
  {
   "cell_type": "code",
   "execution_count": null,
   "metadata": {},
   "outputs": [],
   "source": [
    "h[0], h2[0]"
   ]
  },
  {
   "cell_type": "code",
   "execution_count": null,
   "metadata": {},
   "outputs": [],
   "source": [
    "b0.grad, b1.grad"
   ]
  },
  {
   "cell_type": "code",
   "execution_count": null,
   "metadata": {},
   "outputs": [],
   "source": [
    "Wx1.grad - Wx0.grad"
   ]
  },
  {
   "cell_type": "code",
   "execution_count": null,
   "metadata": {},
   "outputs": [],
   "source": [
    "Wx1.grad.shape, Wx1.grad"
   ]
  },
  {
   "cell_type": "code",
   "execution_count": null,
   "metadata": {},
   "outputs": [],
   "source": [
    "import matplotlib.pyplot as plt\n",
    "\n",
    "plt.imshow((b0.grad - b1.grad).reshape(4, 32).detach().cpu().abs(), vmax=0.1)\n",
    "plt.colorbar()"
   ]
  },
  {
   "cell_type": "code",
   "execution_count": null,
   "metadata": {},
   "outputs": [],
   "source": []
  },
  {
   "cell_type": "code",
   "execution_count": null,
   "metadata": {},
   "outputs": [],
   "source": []
  }
 ],
 "metadata": {
  "kernelspec": {
   "display_name": "xlstm_pt240cu121",
   "language": "python",
   "name": "python3"
  },
  "language_info": {
   "codemirror_mode": {
    "name": "ipython",
    "version": 3
   },
   "file_extension": ".py",
   "mimetype": "text/x-python",
   "name": "python",
   "nbconvert_exporter": "python",
   "pygments_lexer": "ipython3",
   "version": "3.11.9"
  }
 },
 "nbformat": 4,
 "nbformat_minor": 2
}
