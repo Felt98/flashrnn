{
 "cells": [
  {
   "cell_type": "code",
   "execution_count": null,
   "metadata": {},
   "outputs": [],
   "source": [
    "import torch\n",
    "import pandas as pd\n",
    "import matplotlib as mpl\n",
    "import matplotlib.pyplot as plt\n",
    "import numpy as np"
   ]
  },
  {
   "cell_type": "code",
   "execution_count": null,
   "metadata": {},
   "outputs": [],
   "source": [
    "%load_ext autoreload\n",
    "%autoreload 2\n",
    "from plot_results import plot_runtime_results, plot_runtime_results_fwbw, savefig\n",
    "from plot_config import (\n",
    "    col_order_lstm_fw,\n",
    "    col_order_lstm_fwbw,\n",
    "    col_order_slstm_fw,\n",
    "    col_order_slstm_fwbw,\n",
    "    FIGSIZE_2COL,\n",
    "    GRIDSPEC_KWARGS,\n",
    "    save_path\n",
    ")"
   ]
  },
  {
   "cell_type": "code",
   "execution_count": null,
   "metadata": {},
   "outputs": [],
   "source": [
    "# DATA_FILE_DH64_NH12 = \"../../outputs_speed_exps_h100_v1/sequence_length_exp/sequence_length_exp--dh-64--nh-12--B-16--dtype-bfloat16.csv\"\n",
    "# DATA_FILE_DH768_NH1 = \"../../outputs_speed_exps_h100_v1/sequence_length_exp/sequence_length_exp--dh-768--nh-1--B-16--dtype-bfloat16.csv\"\n",
    "# DATA_FILE_DH64_NH12 = \"../../outputs_speed_exps_h100_v3/sequence_length_exp/sequence_length_exp--dh-64--nh-12--B-16--dtype-bfloat16.csv\"\n",
    "# DATA_FILE_DH768_NH1 = \"../../outputs_speed_exps_h100_v3/sequence_length_exp/sequence_length_exp--dh-768--nh-1--B-16--dtype-bfloat16.csv\"\n",
    "DATA_FILE_DH64_NH12 = \"../../outputs_speed_exps_h100sxm_v5/sequence_length_exp/sequence_length_exp--dh-64--nh-12--B-16--dtype-bfloat16.csv\"\n",
    "DATA_FILE_DH768_NH1 = \"../../outputs_speed_exps_h100sxm_v5/sequence_length_exp/sequence_length_exp--dh-768--nh-1--B-16--dtype-bfloat16.csv\""
   ]
  },
  {
   "cell_type": "markdown",
   "metadata": {},
   "source": [
    "# Plot sequence length experiments DH=64, NH=12"
   ]
  },
  {
   "cell_type": "code",
   "execution_count": null,
   "metadata": {},
   "outputs": [],
   "source": [
    "sequence_length_dh64_nh12_df = pd.read_csv(DATA_FILE_DH64_NH12)\n",
    "sequence_length_dh64_nh12_df.style"
   ]
  },
  {
   "cell_type": "markdown",
   "metadata": {},
   "source": [
    "## LSTM"
   ]
  },
  {
   "cell_type": "code",
   "execution_count": null,
   "metadata": {},
   "outputs": [],
   "source": [
    "sequence_length_dh64_nh12_lstm_fw_df = sequence_length_dh64_nh12_df.filter(regex=\"(^lstm.*(triton_fused|cuda_fused|cuda)|^attention_causal--fa2.*)\\+\\+fw$|(?<![\\w\\d])T(?![\\w\\d])\")\n",
    "sequence_length_dh64_nh12_lstm_fw_df"
   ]
  },
  {
   "cell_type": "code",
   "execution_count": null,
   "metadata": {},
   "outputs": [],
   "source": [
    "sequence_length_dh64_nh12_lstm_fwbw_df = sequence_length_dh64_nh12_df.filter(regex=\"(^lstm.*(triton_fused|cuda_fused|cuda)|^attention_causal--fa2.*)\\+\\+fwbw$|(?<![\\w\\d])T(?![\\w\\d])\")\n",
    "sequence_length_dh64_nh12_lstm_fwbw_df"
   ]
  },
  {
   "cell_type": "code",
   "execution_count": null,
   "metadata": {},
   "outputs": [],
   "source": [
    "f = plot_runtime_results_fwbw(\n",
    "    # left\n",
    "    df_left=sequence_length_dh64_nh12_lstm_fw_df,\n",
    "    yticks_left=[0, 5, 10, 15],\n",
    "    # right\n",
    "    df_right=sequence_length_dh64_nh12_lstm_fwbw_df,\n",
    "    yticks_right=[0, 5, 10, 20, 30, 40],\n",
    "    filename_wo_ending=\"sequence_length_dh64_nh12--lstm\",\n",
    "    group_cols=[\"T\"],\n",
    "    # modify_df_func=modify_df,\n",
    ")\n",
    "f"
   ]
  },
  {
   "cell_type": "markdown",
   "metadata": {},
   "source": [
    "## sLSTM"
   ]
  },
  {
   "cell_type": "code",
   "execution_count": null,
   "metadata": {},
   "outputs": [],
   "source": [
    "sequence_length_dh64_nh12_slstm_fw_df = sequence_length_dh64_nh12_df.filter(regex=\"^slstm.*(triton_fused|cuda_fused|cuda)\\+\\+fw$|(?<![\\w\\d])T(?![\\w\\d])\")\n",
    "sequence_length_dh64_nh12_slstm_fw_df"
   ]
  },
  {
   "cell_type": "code",
   "execution_count": null,
   "metadata": {},
   "outputs": [],
   "source": [
    "f = plot_runtime_results(\n",
    "    data_df=sequence_length_dh64_nh12_slstm_fw_df,\n",
    "    slow_cols=[],\n",
    "    slow_cols_offset=0.0,\n",
    "    group_cols=[\"T\"],\n",
    "    yticks=[0, 5, 10, 15, 20],\n",
    "    plot_column_order=None,\n",
    "    filename=\"sequence_length_dh64_nh12--slstm--fw\"\n",
    ")\n",
    "f"
   ]
  },
  {
   "cell_type": "code",
   "execution_count": null,
   "metadata": {},
   "outputs": [],
   "source": [
    "sequence_length_dh64_nh12_slstm_fwbw_df = sequence_length_dh64_nh12_df.filter(regex=\"^slstm.*(triton_fused|cuda_fused|cuda)\\+\\+fwbw$|(?<![\\w\\d])T(?![\\w\\d])\")\n",
    "sequence_length_dh64_nh12_slstm_fwbw_df"
   ]
  },
  {
   "cell_type": "code",
   "execution_count": null,
   "metadata": {},
   "outputs": [],
   "source": [
    "f = plot_runtime_results(\n",
    "    data_df=sequence_length_dh64_nh12_slstm_fwbw_df,\n",
    "    slow_cols=[],\n",
    "    slow_cols_offset=0.0,\n",
    "    group_cols=[\"T\"],\n",
    "    yticks=[0, 10, 20, 30, 40],\n",
    "    plot_column_order=None,\n",
    "    filename=\"sequence_length_dh64_nh12--slstm--fwbw\"\n",
    ")\n",
    "f"
   ]
  },
  {
   "cell_type": "code",
   "execution_count": null,
   "metadata": {},
   "outputs": [],
   "source": [
    "f, (ax_left, ax_right) = plt.subplots(\n",
    "    1, 2, figsize=FIGSIZE_2COL, gridspec_kw=GRIDSPEC_KWARGS\n",
    ")\n",
    "\n",
    "f = plot_runtime_results(\n",
    "    data_df=sequence_length_dh64_nh12_slstm_fw_df,\n",
    "    slow_cols=[],\n",
    "    slow_cols_offset=0.0,\n",
    "    group_cols=[\"T\"],\n",
    "    yticks=[0, 5, 10, 15, 20],\n",
    "    plot_column_order=None,\n",
    "    ax=ax_left,\n",
    ")\n",
    "f = plot_runtime_results(\n",
    "    data_df=sequence_length_dh64_nh12_slstm_fwbw_df,\n",
    "    slow_cols=[],\n",
    "    slow_cols_offset=0.0,\n",
    "    group_cols=[\"T\"],\n",
    "    yticks=[0, 10, 20, 30, 40],\n",
    "    plot_column_order=None,\n",
    "    ax=ax_right,\n",
    ")\n",
    "\n",
    "savefig(f, savedir=save_path, name=\"sequence_length_dh64_nh12--slstm\")\n",
    "f"
   ]
  },
  {
   "cell_type": "markdown",
   "metadata": {},
   "source": [
    "# Plot batch size experiments DH=768, NH=1"
   ]
  },
  {
   "cell_type": "code",
   "execution_count": null,
   "metadata": {},
   "outputs": [],
   "source": [
    "sequence_length_dh768_nh1_df = pd.read_csv(DATA_FILE_DH768_NH1)\n",
    "sequence_length_dh768_nh1_df.style"
   ]
  },
  {
   "cell_type": "markdown",
   "metadata": {},
   "source": [
    "## LSTM"
   ]
  },
  {
   "cell_type": "code",
   "execution_count": null,
   "metadata": {},
   "outputs": [],
   "source": [
    "sequence_length_dh768_nh1_lstm_fw_df = sequence_length_dh768_nh1_df.filter(regex=\"(^lstm.*(cuda_fused|cuda)|^nn.LSTM--pytorch-float16.*|^haste.*)\\+\\+fw$|(?<![\\w\\d])T(?![\\w\\d])\")\n",
    "sequence_length_dh768_nh1_lstm_fw_df"
   ]
  },
  {
   "cell_type": "code",
   "execution_count": null,
   "metadata": {},
   "outputs": [],
   "source": [
    "sequence_length_dh768_nh1_lstm_fwbw_df = sequence_length_dh768_nh1_df.filter(regex=\"(^lstm.*(cuda_fused|cuda)|^nn.LSTM--pytorch-float16.*|^haste.*)\\+\\+fwbw$|(?<![\\w\\d])T(?![\\w\\d])\")\n",
    "sequence_length_dh768_nh1_lstm_fwbw_df"
   ]
  },
  {
   "cell_type": "code",
   "execution_count": null,
   "metadata": {},
   "outputs": [],
   "source": [
    "f = plot_runtime_results_fwbw(\n",
    "    # left\n",
    "    df_left=sequence_length_dh768_nh1_lstm_fw_df,\n",
    "    yticks_left=[0, 5, 10, 15, 20, 25],\n",
    "    # right\n",
    "    df_right=sequence_length_dh768_nh1_lstm_fwbw_df,\n",
    "    yticks_right=[0, 5, 10, 20, 30, 40, 50, 60, 70],\n",
    "    filename_wo_ending=\"sequence_length_dh768_nh1--lstm\",\n",
    "    group_cols=[\"T\"],\n",
    "    # modify_df_func=modify_df,\n",
    ")\n",
    "f"
   ]
  },
  {
   "cell_type": "markdown",
   "metadata": {},
   "source": [
    "## sLSTM"
   ]
  },
  {
   "cell_type": "code",
   "execution_count": null,
   "metadata": {},
   "outputs": [],
   "source": [
    "sequence_length_dh768_nh1_slstm_fw_df = sequence_length_dh768_nh1_df.filter(regex=\"^slstm.*(cuda_fused|cuda)\\+\\+fw$|(?<![\\w\\d])T(?![\\w\\d])\")\n",
    "sequence_length_dh768_nh1_slstm_fw_df"
   ]
  },
  {
   "cell_type": "code",
   "execution_count": null,
   "metadata": {},
   "outputs": [],
   "source": [
    "f = plot_runtime_results(\n",
    "    data_df=sequence_length_dh768_nh1_slstm_fw_df,\n",
    "    slow_cols=[],\n",
    "    slow_cols_offset=0.0,\n",
    "    group_cols=[\"T\"],\n",
    "    yticks=[0, 5, 10, 15, 20],\n",
    "    plot_column_order=None,\n",
    "    filename=\"sequence_length_dh768_nh1--slstm--fw\"\n",
    ")\n",
    "f"
   ]
  },
  {
   "cell_type": "code",
   "execution_count": null,
   "metadata": {},
   "outputs": [],
   "source": [
    "sequence_length_dh768_nh1_slstm_fwbw_df = sequence_length_dh768_nh1_df.filter(regex=\"^slstm.*(cuda_fused|cuda)\\+\\+fwbw$|(?<![\\w\\d])T(?![\\w\\d])\")\n",
    "sequence_length_dh768_nh1_slstm_fwbw_df"
   ]
  },
  {
   "cell_type": "code",
   "execution_count": null,
   "metadata": {},
   "outputs": [],
   "source": [
    "f = plot_runtime_results(\n",
    "    data_df=sequence_length_dh768_nh1_slstm_fwbw_df,\n",
    "    slow_cols=[],\n",
    "    slow_cols_offset=0.0,\n",
    "    group_cols=[\"T\"],\n",
    "    yticks=[0, 10, 20, 30, 40, 50],\n",
    "    plot_column_order=None,\n",
    "    filename=\"sequence_length_dh768_nh1--slstm--fwbw\"\n",
    ")\n",
    "f"
   ]
  },
  {
   "cell_type": "code",
   "execution_count": null,
   "metadata": {},
   "outputs": [],
   "source": [
    "f, (ax_left, ax_right) = plt.subplots(\n",
    "    1, 2, figsize=FIGSIZE_2COL, gridspec_kw=GRIDSPEC_KWARGS\n",
    ")\n",
    "\n",
    "f = plot_runtime_results(\n",
    "    data_df=sequence_length_dh768_nh1_slstm_fw_df,\n",
    "    slow_cols=[],\n",
    "    slow_cols_offset=0.0,\n",
    "    group_cols=[\"T\"],\n",
    "    yticks=[0, 5, 10, 15, 20],\n",
    "    plot_column_order=None,\n",
    "    ax=ax_left,\n",
    ")\n",
    "f = plot_runtime_results(\n",
    "    data_df=sequence_length_dh768_nh1_slstm_fwbw_df,\n",
    "    slow_cols=[],\n",
    "    slow_cols_offset=0.0,\n",
    "    group_cols=[\"T\"],\n",
    "    yticks=[0, 10, 20, 30, 40, 50],\n",
    "    plot_column_order=None,\n",
    "    ax=ax_right,\n",
    ")\n",
    "\n",
    "savefig(f, savedir=save_path, name=\"sequence_length_dh768_nh1--slstm\")\n",
    "f"
   ]
  },
  {
   "cell_type": "code",
   "execution_count": null,
   "metadata": {},
   "outputs": [],
   "source": []
  },
  {
   "cell_type": "code",
   "execution_count": null,
   "metadata": {},
   "outputs": [],
   "source": []
  }
 ],
 "metadata": {
  "kernelspec": {
   "display_name": "xlstm",
   "language": "python",
   "name": "python3"
  },
  "language_info": {
   "codemirror_mode": {
    "name": "ipython",
    "version": 3
   },
   "file_extension": ".py",
   "mimetype": "text/x-python",
   "name": "python",
   "nbconvert_exporter": "python",
   "pygments_lexer": "ipython3",
   "version": "3.11.10"
  }
 },
 "nbformat": 4,
 "nbformat_minor": 2
}
