{
 "cells": [
  {
   "cell_type": "code",
   "execution_count": null,
   "metadata": {},
   "outputs": [],
   "source": [
    "import torch\n",
    "import pandas as pd\n",
    "import matplotlib as mpl\n",
    "import matplotlib.pyplot as plt\n",
    "import numpy as np"
   ]
  },
  {
   "cell_type": "code",
   "execution_count": null,
   "metadata": {},
   "outputs": [],
   "source": [
    "%load_ext autoreload\n",
    "%autoreload 2\n",
    "from plot_results import plot_runtime_results, plot_runtime_results_fwbw, savefig\n",
    "from plot_config import (\n",
    "    col_order_lstm_wbl_fw,\n",
    "    col_order_lstm_fw,\n",
    "    col_order_lstm_wbl_fwbw,\n",
    "    col_order_lstm_fwbw,\n",
    "    col_order_slstm_fw,\n",
    "    col_order_slstm_fwbw,\n",
    "    FIGSIZE_2COL,\n",
    "    GRIDSPEC_KWARGS,\n",
    "    save_path\n",
    ")\n"
   ]
  },
  {
   "cell_type": "markdown",
   "metadata": {},
   "source": [
    "# Plot head dimension experiments"
   ]
  },
  {
   "cell_type": "code",
   "execution_count": null,
   "metadata": {},
   "outputs": [],
   "source": [
    "# DATA_FILE = \"../../outputs_speed_exps_h100_v1/head_dimension_exp/head_dimension_exp--batch-16--T-1024--dtype-bfloat16.csv\"\n",
    "# DATA_FILE = \"../../outputs_speed_exps_h100_v2/head_dimension_exp/head_dimension_exp--batch-16--T-1024--dtype-bfloat16.csv\"\n",
    "# DATA_FILE = \"../../outputs_speed_exps_h100_v3/head_dimension_exp/head_dimension_exp--batch-16--T-1024--dtype-bfloat16.csv\"\n",
    "DATA_FILE = \"../../outputs_speed_exps_h100sxm_v5/head_dimension_exp/head_dimension_exp--batch-16--T-1024--dtype-bfloat16.csv\"\n",
    "# DATA_FILE = \"../../outputs_speed_exps_v5_h100nvl/head_dimension_exp/head_dimension_exp--batch-16--T-1024--dtype-bfloat16.csv\"\n"
   ]
  },
  {
   "cell_type": "code",
   "execution_count": null,
   "metadata": {},
   "outputs": [],
   "source": [
    "head_dim_df = pd.read_csv(DATA_FILE)\n",
    "head_dim_df.style\n",
    "head_dim_df.sort_values(by=\"DH\", inplace=True)"
   ]
  },
  {
   "cell_type": "markdown",
   "metadata": {},
   "source": [
    "## LSTM"
   ]
  },
  {
   "cell_type": "code",
   "execution_count": null,
   "metadata": {},
   "outputs": [],
   "source": [
    "head_dim_lstm_fw_df = head_dim_df.filter(\n",
    "    regex=\"DH|NH|(^lstm.*(vanilla_fwbw|triton_fused|cuda_fused|cuda)|^attention_causal--fa2.*|^nn.LSTM--pytorch-float16*|^haste.LSTM--pytorch-float32)\\+\\+fw$\"\n",
    ")  # .filter(regex=\"DH|NH|^lstm.*(vanilla_fwbw|triton_fused|cuda_fused|cuda)\\+\\+fw$\")\n",
    "head_dim_lstm_fw_df"
   ]
  },
  {
   "cell_type": "code",
   "execution_count": null,
   "metadata": {},
   "outputs": [],
   "source": [
    "head_dim_lstm_fwbw_df = head_dim_df.filter(\n",
    "    regex=\"DH|NH|(^lstm.*(vanilla_fwbw|triton_fused|cuda_fused|cuda)|^attention_causal--fa2.*|^nn.LSTM--pytorch-float16*|^haste.LSTM--pytorch-float32)\\+\\+fwbw$\"\n",
    ")\n",
    "head_dim_lstm_fwbw_df"
   ]
  },
  {
   "cell_type": "code",
   "execution_count": null,
   "metadata": {},
   "outputs": [],
   "source": [
    "def modify_df(df: pd.DataFrame) -> pd.DataFrame:\n",
    "    df = df.copy()\n",
    "    if \"nn.LSTM--pytorch-float16++fw\" in df.columns:\n",
    "        # df[\"nn.LSTM--pytorch-float32++fw\"][df[\"DH\"] != 768.] = float(\"nan\")\n",
    "        df.loc[df[\"DH\"] != 768., \"nn.LSTM--pytorch-float16++fw\"] = float(\"nan\")\n",
    "    if \"nn.LSTM--pytorch-float16++fwbw\" in df.columns:\n",
    "        df.loc[df[\"DH\"] != 768., \"nn.LSTM--pytorch-float16++fwbw\"] = float(\"nan\")\n",
    "    if \"haste.LSTM--pytorch-float32++fw\" in df.columns:\n",
    "        df.loc[df[\"DH\"] != 768., \"haste.LSTM--pytorch-float32++fw\"] = float(\"nan\")\n",
    "    if \"haste.LSTM--pytorch-float32++fwbw\" in df.columns:\n",
    "        df.loc[df[\"DH\"] != 768., \"haste.LSTM--pytorch-float32++fwbw\"] = float(\"nan\")\n",
    "        # df[\"nn.LSTM--pytorch-float32++fwbw\"][df[\"DH\"] != 768.] = float(\"nan\")\n",
    "    return df"
   ]
  },
  {
   "cell_type": "code",
   "execution_count": null,
   "metadata": {},
   "outputs": [],
   "source": [
    "df = modify_df(head_dim_lstm_fw_df)\n",
    "# df.loc[df.columns.difference([\"nn.LSTM--pytorch-float32++fw\"])].fillna(0.2, inplace=True)\n",
    "df_n = df.loc[:, df.columns != \"nn.LSTM--pytorch-float16++fw\"].fillna(0.2, inplace=True)\n",
    "\n",
    "df.sort_values(by=\"DH\", inplace=True)"
   ]
  },
  {
   "cell_type": "code",
   "execution_count": null,
   "metadata": {},
   "outputs": [],
   "source": [
    "df"
   ]
  },
  {
   "cell_type": "code",
   "execution_count": null,
   "metadata": {},
   "outputs": [],
   "source": [
    "group_cols=[\"DH\", \"NH\"]"
   ]
  },
  {
   "cell_type": "code",
   "execution_count": null,
   "metadata": {},
   "outputs": [],
   "source": []
  },
  {
   "cell_type": "code",
   "execution_count": null,
   "metadata": {},
   "outputs": [],
   "source": [
    "f = plot_runtime_results_fwbw(\n",
    "    # left\n",
    "    df_left=head_dim_lstm_fw_df,\n",
    "    col_order_left=col_order_lstm_fw+ [\"attention_causal--fa2++fw\", \"nn.LSTM--pytorch-float16++fw\", \"haste.LSTM--pytorch-float32++fw\"],\n",
    "    slow_cols_left=[\"lstm--vanilla_fwbw++fw\"],\n",
    "    fillna_exclude_cols_left=[\"nn.LSTM--pytorch-float16++fw\", \"haste.LSTM--pytorch-float32++fw\"],\n",
    "    slow_cols_offset_left=25,\n",
    "    yticks_left=[0, 5, 10, 15],\n",
    "    # right\n",
    "    df_right=head_dim_lstm_fwbw_df,\n",
    "    col_order_right=col_order_lstm_fwbw + [\"attention_causal--fa2++fwbw\", \"nn.LSTM--pytorch-float16++fwbw\", \"haste.LSTM--pytorch-float32++fwbw\"],\n",
    "    slow_cols_right=[\"lstm--vanilla_fwbw++fwbw\"],\n",
    "    slow_cols_offset_right=50.0,\n",
    "    yticks_right=[0, 5, 10, 20, 30, 40],\n",
    "    fillna_exclude_cols_right=[\"nn.LSTM--pytorch-float16++fwbw\", \"haste.LSTM--pytorch-float32++fwbw\"],\n",
    "    filename_wo_ending=\"head_dim--lstm\",\n",
    "    group_cols=[\"DH\", \"NH\"],\n",
    "    modify_df_func=modify_df,\n",
    ")\n",
    "f"
   ]
  },
  {
   "cell_type": "markdown",
   "metadata": {},
   "source": [
    "## sLSTM"
   ]
  },
  {
   "cell_type": "code",
   "execution_count": null,
   "metadata": {},
   "outputs": [],
   "source": [
    "head_dim_slstm_fw_df = head_dim_df.filter(regex=\"DH|NH|^slstm.*(vanilla_fwbw|van|triton_fused|cuda_fused|cuda|haste)\\+\\+fw$\")\n",
    "head_dim_slstm_fw_df"
   ]
  },
  {
   "cell_type": "code",
   "execution_count": null,
   "metadata": {},
   "outputs": [],
   "source": [
    "f = plot_runtime_results(\n",
    "    data_df=head_dim_slstm_fw_df,\n",
    "    slow_cols=[\"slstm--vanilla_fwbw++fw\"],\n",
    "    slow_cols_offset=17.0,\n",
    "    group_cols=[\"NH\", \"DH\"],\n",
    "    yticks=[0, 5, 10],\n",
    "    plot_column_order=col_order_slstm_fw,\n",
    "    filename=\"head_dim--slstm--fw\"\n",
    ")\n",
    "f"
   ]
  },
  {
   "cell_type": "code",
   "execution_count": null,
   "metadata": {},
   "outputs": [],
   "source": [
    "head_dim_slstm_fwbw_df = head_dim_df.filter(regex=\"DH|NH|^slstm.*(vanilla_fwbw|triton_fused|cuda_fused|cuda)\\+\\+fwbw$\")\n",
    "head_dim_slstm_fwbw_df"
   ]
  },
  {
   "cell_type": "code",
   "execution_count": null,
   "metadata": {},
   "outputs": [],
   "source": [
    "f = plot_runtime_results(\n",
    "    data_df=head_dim_slstm_fwbw_df,\n",
    "    slow_cols=[\"slstm--vanilla_fwbw++fwbw\"],\n",
    "    slow_cols_offset=40.0,\n",
    "    group_cols=[\"NH\", \"DH\"],\n",
    "    yticks=[0, 5, 10, 15, 20, 25],\n",
    "    plot_column_order=col_order_slstm_fwbw,\n",
    "    filename=\"head_dim--slstm--fwbw\"\n",
    ")\n",
    "f"
   ]
  },
  {
   "cell_type": "code",
   "execution_count": null,
   "metadata": {},
   "outputs": [],
   "source": [
    "f, (ax_left, ax_right) = plt.subplots(\n",
    "    1, 2, figsize=FIGSIZE_2COL, gridspec_kw=GRIDSPEC_KWARGS\n",
    ")\n",
    "\n",
    "f = plot_runtime_results(\n",
    "    data_df=head_dim_slstm_fw_df,\n",
    "    slow_cols=[\"slstm--vanilla_fwbw++fw\"],\n",
    "    slow_cols_offset=17.0,\n",
    "    group_cols=[\"NH\", \"DH\"],\n",
    "    yticks=[0, 5, 10, 15],\n",
    "    plot_column_order=col_order_slstm_fw,\n",
    "    filename=\"head_dim--slstm--fw\",\n",
    "    legend_args={\n",
    "        \"loc\": \"lower center\",\n",
    "        \"ncol\": 2,\n",
    "        \"bbox_to_anchor\": (0.0, 0.97, 1.0, 0.102),\n",
    "        \"frameon\": False,\n",
    "        \"facecolor\": \"white\",\n",
    "    },\n",
    "    \n",
    "    ax=ax_left,\n",
    ")\n",
    "f = plot_runtime_results(\n",
    "    data_df=head_dim_slstm_fwbw_df,\n",
    "    slow_cols=[\"slstm--vanilla_fwbw++fwbw\"],\n",
    "    slow_cols_offset=40.0,\n",
    "    group_cols=[\"NH\", \"DH\"],\n",
    "    yticks=[0, 5, 10, 15, 20, 25],\n",
    "    plot_column_order=col_order_slstm_fwbw,\n",
    "    legend_args={\n",
    "        \"loc\": \"lower center\",\n",
    "        \"ncol\": 2,\n",
    "        \"bbox_to_anchor\": (0.0, 0.97, 1.0, 0.102),\n",
    "        \"frameon\": False,\n",
    "        \"facecolor\": \"white\",\n",
    "    },\n",
    "    ax=ax_right,\n",
    ")\n",
    "savefig(f, savedir=save_path, name=\"head_dim--slstm\")\n",
    "f"
   ]
  },
  {
   "cell_type": "code",
   "execution_count": null,
   "metadata": {},
   "outputs": [],
   "source": []
  }
 ],
 "metadata": {
  "kernelspec": {
   "display_name": "xlstm",
   "language": "python",
   "name": "python3"
  },
  "language_info": {
   "codemirror_mode": {
    "name": "ipython",
    "version": 3
   },
   "file_extension": ".py",
   "mimetype": "text/x-python",
   "name": "python",
   "nbconvert_exporter": "python",
   "pygments_lexer": "ipython3",
   "version": "3.11.10"
  }
 },
 "nbformat": 4,
 "nbformat_minor": 2
}
