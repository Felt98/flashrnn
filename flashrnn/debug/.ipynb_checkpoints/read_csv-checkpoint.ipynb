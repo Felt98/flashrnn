{
 "cells": [
  {
   "cell_type": "code",
   "execution_count": null,
   "metadata": {
    "vscode": {
     "languageId": "plaintext"
    }
   },
   "outputs": [],
   "source": [
    "import pandas as pd\n",
    "# 模拟 CSV 文件内容\n",
    "\n",
    "\n",
    "# 使用 pandas 读取 CSV 内容\n",
    "from io import StringIO\n",
    "df = pd.read_csv(diff_gru_cuda_bfloat16_T1_H512_B64.csv)\n",
    "df_pct = df.applymap(lambda x: f\"{x:.2e}\" if isinstance(x, float) else x)\n",
    "\n",
    "# 打印表格\n",
    "print(df_pct.to_string(index=False))"
   ]
  }
 ],
 "metadata": {
  "language_info": {
   "name": "python"
  }
 },
 "nbformat": 4,
 "nbformat_minor": 2
}
